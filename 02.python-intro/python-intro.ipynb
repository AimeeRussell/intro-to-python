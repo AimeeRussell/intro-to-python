{
 "cells": [
  {
   "cell_type": "markdown",
   "id": "f278ac8d-1a6a-4ac7-aa5a-aa5056968ec0",
   "metadata": {},
   "source": [
    "# intro to python\n",
    "\n",
    "## overview\n",
    "\n",
    "Programming is a powerful tool that allows us to do complicated calculations and analysis, visualize data, and automate workflows to ensure consistency, accuracy, and reproducibility in our research.\n",
    "\n",
    "In this exercise, you will get a basic introduction to the python programming language, including variables and objects, data types, and how to control the flow of our programs. Over the next few sessions, we will build on these ideas, using some real example data, to get more of an idea of how to use python in our research.\n",
    "\n",
    "This is an interactive notebook - in between bits of text, there are interactive cells which you can use to execute snippets of python code. To run these cells, highlight them by clicking on them, then press CTRL and ENTER (or SHIFT and ENTER, or by pressing the \"play\" button at the top of this tab).\n",
    "\n",
    "## objectives\n",
    "\n",
    "After finishing this exercise, you will:\n",
    "\n",
    "- learn and gain experience with some of the basic elements of python and programming\n",
    "- learn how to use the python command line interface\n",
    "\n",
    "\n",
    "## objects and assignment\n",
    "\n",
    "We'll start by creating a new object, foo, and assigning it a value of `hello, world!`:\n",
    "\n",
    "```python\n",
    "\n",
    "    foo = \"hello, world!\" # assign an object using =\n",
    "\n",
    "```\n",
    "\n",
    "In the text above (and the cell below), you should notice that the color of different parts of the text is different. We'll discuss different aspects of this as we go, but pay attention to the greenish text that comes after the `#` - this indicates a *comment*, meaning text that is intended for humans to read, but that is ignored by the python interpreter. We'll discuss comments more when we start looking at writing scripts, but as you work through the exercises, make sure to read the comments - they're there to help you understand what each line of code actually does.\n",
    "\n",
    "After creating the `foo` **object**, we use the built-in `print()` ([documentation](https://docs.python.org/3/library/functions.html#print)) function (more on these later) to see the *value* of that object. \n",
    "\n",
    "Go ahead and run the cell to get started:"
   ]
  },
  {
   "cell_type": "code",
   "execution_count": null,
   "id": "0d6b074f-13d3-4e6c-980d-9d56f90f8fe1",
   "metadata": {},
   "outputs": [],
   "source": [
    "foo = \"hello, world!\" # assign an object using =\n",
    "print(foo) # print the value of the object to the screen"
   ]
  },
  {
   "cell_type": "code",
   "execution_count": null,
   "id": "924bdfc6-e229-48c3-81c1-f80e37a8829e",
   "metadata": {},
   "outputs": [],
   "source": []
  }
 ],
 "metadata": {
  "kernelspec": {
   "display_name": "Python 3 (ipykernel)",
   "language": "python",
   "name": "python3"
  },
  "language_info": {
   "codemirror_mode": {
    "name": "ipython",
    "version": 3
   },
   "file_extension": ".py",
   "mimetype": "text/x-python",
   "name": "python",
   "nbconvert_exporter": "python",
   "pygments_lexer": "ipython3",
   "version": "3.11.6"
  }
 },
 "nbformat": 4,
 "nbformat_minor": 5
}

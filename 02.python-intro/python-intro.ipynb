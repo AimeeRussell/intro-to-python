{
 "cells": [
  {
   "cell_type": "markdown",
   "id": "f278ac8d-1a6a-4ac7-aa5a-aa5056968ec0",
   "metadata": {},
   "source": [
    "# intro to python\n",
    "\n",
    "## overview\n",
    "\n",
    "Programming is a powerful tool that allows us to do complicated calculations and analysis, visualize data, and automate workflows to ensure consistency, accuracy, and reproducibility in our research.\n",
    "\n",
    "In this exercise, you will get a basic introduction to the python programming language, including variables and objects, data types, and how to control the flow of our programs. Over the next few sessions, we will build on these ideas, using some real example data, to get more of an idea of how to use python in our research.\n",
    "\n",
    "This is an interactive notebook - in between bits of text, there are interactive cells which you can use to execute snippets of python code. To run these cells, highlight them by clicking on them, then press CTRL and ENTER (or SHIFT and ENTER, or by pressing the \"play\" button at the top of this tab).\n",
    "\n",
    "## objectives\n",
    "\n",
    "After finishing this exercise, you will:\n",
    "\n",
    "- learn and gain experience with some of the basic elements of python and programming\n",
    "- learn how to use the python command line interface\n",
    "\n",
    "\n",
    "## objects and assignment\n",
    "\n",
    "We'll start by creating a new object, foo, and assigning it a value of `hello, world!`:\n",
    "\n",
    "```python\n",
    "\n",
    "    foo = \"hello, world!\" # assign an object using =\n",
    "\n",
    "```\n",
    "\n",
    "In the text above (and the cell below), you should notice that the color of different parts of the text is different. We'll discuss different aspects of this as we go, but pay attention to the greenish text that comes after the `#` - this indicates a *comment*, meaning text that is intended for humans to read, but that is ignored by the python interpreter. We'll discuss comments more when we start looking at writing scripts, but as you work through the exercises, make sure to read the comments - they're there to help you understand what each line of code actually does.\n",
    "\n",
    "After creating the `foo` **object**, we use the built-in `print()` ([documentation](https://docs.python.org/3/library/functions.html#print)) function (more on these later) to see the *value* of that object. \n",
    "\n",
    "Go ahead and run the cell to get started:"
   ]
  },
  {
   "cell_type": "code",
   "execution_count": null,
   "id": "0d6b074f-13d3-4e6c-980d-9d56f90f8fe1",
   "metadata": {},
   "outputs": [],
   "source": [
    "foo = \"hello, world!\" # assign an object using =\n",
    "print(foo) # print the value of the object to the screen"
   ]
  },
  {
   "cell_type": "markdown",
   "id": "8cc85eed-eda8-435f-bc5e-1ff3b43764bc",
   "metadata": {},
   "source": [
    "You should notice that the cell has changed. First, the square brackets (`[ ]`) have a number inside of them (`[1]`), and you can also see the output below the cell.\n",
    "\n",
    "Often, you will want to know how to use a particular function. To get help, we can use the built-in `help()` function ([documentation](https://docs.python.org/3/library/functions.html#help)). For example, to get more information on how to use the `print()` function:"
   ]
  },
  {
   "cell_type": "code",
   "execution_count": null,
   "id": "9d503d6f-1660-4d83-89b1-6a67a91cc963",
   "metadata": {},
   "outputs": [],
   "source": [
    "help(print) # use the help() function to find out more about particular functions"
   ]
  },
  {
   "cell_type": "markdown",
   "id": "174fa7bf-c98b-492d-b7fa-852de013e5aa",
   "metadata": {},
   "source": [
    "Alternatively, in a jupyter notebook (or IPython terminal), we can use `?` (the question mark operator) to do the same:"
   ]
  },
  {
   "cell_type": "code",
   "execution_count": null,
   "id": "1b880eb5-4299-4815-87b3-c0da4deb23a5",
   "metadata": {},
   "outputs": [],
   "source": [
    "?print"
   ]
  },
  {
   "cell_type": "markdown",
   "id": "4e6bd15e-f272-45b3-81da-7fbe69324690",
   "metadata": {},
   "source": [
    "One important thing to remember is that the *name* of an **object** is *case-sensitive* (meaning that `foo` is different from `Foo`):"
   ]
  },
  {
   "cell_type": "code",
   "execution_count": null,
   "id": "696b3007-758c-47b8-8679-4bf93f3f6f83",
   "metadata": {},
   "outputs": [],
   "source": [
    "print(Foo) # this won't work, because we haven't created an object called Foo yet"
   ]
  },
  {
   "cell_type": "markdown",
   "id": "559b0634-ce46-432e-8c0c-2cc0e8641f38",
   "metadata": {},
   "source": [
    "We'll see more examples of error messages later (and how to interpret them), but hopefully the message:\n",
    "\n",
    "```pytb\n",
    "    NameError: name 'Foo' is not defined\n",
    "\n",
    "```\n",
    "\n",
    "is clear enough. Because we were expecting this error message, we can ignore it and move on for now.\n",
    "\n",
    "## variable names\n",
    "\n",
    "We have already seen one example of a variable, `foo`, above. Remember that in programming, a variable is name that represents or refers to a value. Variables store temporary information that can be manipulated or changed as we type commands or run scripts.\n",
    "\n",
    "In python, variable names can consist of letters, digits, or underscores, but they cannot begin with a digit. If you try to name a variable using an illegal name, you will get a `SyntaxError`:\n",
    "\n",
    "```pytb\n",
    "\n",
    ">>> 3var = \"this won't work\"\n",
    "  Cell In[5], line 1\n",
    "    3var = 'this won't work'\n",
    "     ^\n",
    "SyntaxError: invalid decimal literal\n",
    "\n",
    "```\n",
    "\n",
    "To confirm this, try it for yourself below:"
   ]
  },
  {
   "cell_type": "code",
   "execution_count": null,
   "id": "66ff0708-c5b8-4a84-8a5b-d7dbad68a08c",
   "metadata": {},
   "outputs": [],
   "source": [
    "3var = \"this won't work\""
   ]
  },
  {
   "cell_type": "markdown",
   "id": "d3137ff9-fdd9-470e-b430-3027649ae300",
   "metadata": {},
   "source": [
    "Here, we see a `SyntaxError` raised - this means that the code we have written violates the *syntax* (grammar) of the language. We'll look more at different error types in the debugging exercise later on.\n",
    "\n",
    "## data types\n",
    "\n",
    "So, we've created our first **object**, `foo`. But what kind of object is `foo`? To find out, we can use the `type()` function ([documentation](https://docs.python.org/3/library/functions.html#type)):"
   ]
  },
  {
   "cell_type": "code",
   "execution_count": null,
   "id": "5c7ff252-1e7f-4471-9e01-0408a42b2c5c",
   "metadata": {},
   "outputs": [],
   "source": [
    "type(foo) # use the type() function to find the type of an object"
   ]
  },
  {
   "cell_type": "markdown",
   "id": "cc8bd4a3-27ea-4f8d-b332-066973c158b5",
   "metadata": {},
   "source": [
    "So `foo` is an object of type **str**, (\"string\"), meaning that it is *text*.\n",
    "\n",
    "In general, python has the following basic data types:\n",
    "\n",
    "In practice, variables can refer to almost anything. Variables can also be **int**egers, **float**ing point numbers (decimal numbers), **list**s, **tuple**, **dict**ionaries, entire files, and many more possibilities.\n",
    "\n"
   ]
  },
  {
   "cell_type": "markdown",
   "id": "360407ed-f1a3-4353-9b2f-01644addcf0b",
   "metadata": {},
   "source": [
    "## numeric operations"
   ]
  },
  {
   "cell_type": "code",
   "execution_count": 18,
   "id": "bfa2bdda-1639-4651-ac22-14b8f3fac7f6",
   "metadata": {},
   "outputs": [
    {
     "name": "stdout",
     "output_type": "stream",
     "text": [
      "x + y = 5\n",
      "x - y = -1\n",
      "x * y = 6\n",
      "x / y = 0.6666666666666666\n",
      "x // y = 0\n",
      "x ** y = 8\n",
      "x % y = 2\n",
      "x ^ y = 1\n"
     ]
    }
   ],
   "source": [
    "x = 2\n",
    "y = 3\n",
    "\n",
    "print(f\"x + y = {(x+y)}\") # print the value of x + y (addition)\n",
    "print(f\"x - y = {(x-y)}\") # print the value of x - y (subtraction)\n",
    "print(f\"x * y = {(x*y)}\") # print the value of x * y (multiplication)\n",
    "print(f\"x / y = {(x/y)}\") # print the value of x / y (division)\n",
    "print(f\"x // y = {(x//y)}\") # print the value of x // y (floor division)\n",
    "print(f\"x ** y = {(x**y)}\") # print the value of x ** y (exponentiation)\n",
    "print(f\"x % y = {(x%y)}\") # print the value of x % y (modular division)\n",
    "print(f\"x ^ y = {(x^y)}\") # print the value of x ^ y (bitwise XOR)"
   ]
  },
  {
   "cell_type": "markdown",
   "id": "0641ad31-15bf-43b9-acc0-5e909d0844c0",
   "metadata": {},
   "source": [
    "Most of these should be fairly straightforward, except perhaps for the last two (`%` and `^`). The `%`\n",
    "\n",
    "\n",
    "Note also how we're using `print()` here, with a \"[formatted string literal](https://docs.python.org/3/tutorial/inputoutput.html#tut-f-strings)\" (or \"**f-String**\", `f\"{}\"`). By prefixing the string with the letter `f`, we can include the value of an expression inside the string, using the `{ }` operators. We'll look at more examples of how to use these later on, including how we can format numbers inside of strings.\n",
    "\n",
    "## functions"
   ]
  },
  {
   "cell_type": "code",
   "execution_count": null,
   "id": "4ef8a456-5535-428c-af9a-d376a3ec7aab",
   "metadata": {},
   "outputs": [],
   "source": []
  },
  {
   "cell_type": "markdown",
   "id": "e3973fea-d460-4882-b17c-a8ee25a41f83",
   "metadata": {},
   "source": [
    "## controlling flow"
   ]
  },
  {
   "cell_type": "code",
   "execution_count": null,
   "id": "4704fbf0-7970-4d26-94da-1e2e9f6e4fbf",
   "metadata": {},
   "outputs": [],
   "source": []
  },
  {
   "cell_type": "markdown",
   "id": "2a475546-49d0-4c57-bd4c-5ddfe82af431",
   "metadata": {},
   "source": [
    "## importing modules"
   ]
  },
  {
   "cell_type": "code",
   "execution_count": null,
   "id": "84ab655f-9f1a-4f8d-a09e-ed2a216ffb16",
   "metadata": {},
   "outputs": [],
   "source": []
  },
  {
   "cell_type": "markdown",
   "id": "0e4bc0e1-34c4-4ef9-945b-e28e0a5f81d5",
   "metadata": {},
   "source": [
    "## recap"
   ]
  },
  {
   "cell_type": "code",
   "execution_count": null,
   "id": "8150a2ae-e2d6-4c54-98b0-0e5ec1e13f07",
   "metadata": {},
   "outputs": [],
   "source": []
  }
 ],
 "metadata": {
  "kernelspec": {
   "display_name": "Python 3 (ipykernel)",
   "language": "python",
   "name": "python3"
  },
  "language_info": {
   "codemirror_mode": {
    "name": "ipython",
    "version": 3
   },
   "file_extension": ".py",
   "mimetype": "text/x-python",
   "name": "python",
   "nbconvert_exporter": "python",
   "pygments_lexer": "ipython3",
   "version": "3.11.6"
  }
 },
 "nbformat": 4,
 "nbformat_minor": 5
}

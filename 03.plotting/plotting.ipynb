{
 "cells": [
  {
   "cell_type": "markdown",
   "id": "6da93520-a559-4c95-ba67-b943e94c50e8",
   "metadata": {},
   "source": [
    "# plotting data using seaborn"
   ]
  },
  {
   "cell_type": "code",
   "execution_count": null,
   "id": "8d8d877f-4762-4e6f-b4b0-ce4f7fe05d66",
   "metadata": {},
   "outputs": [],
   "source": []
  }
 ],
 "metadata": {
  "kernelspec": {
   "display_name": "Python 3 (ipykernel)",
   "language": "python",
   "name": "python3"
  },
  "language_info": {
   "codemirror_mode": {
    "name": "ipython",
    "version": 3
   },
   "file_extension": ".py",
   "mimetype": "text/x-python",
   "name": "python",
   "nbconvert_exporter": "python",
   "pygments_lexer": "ipython3",
   "version": "3.11.6"
  }
 },
 "nbformat": 4,
 "nbformat_minor": 5
}

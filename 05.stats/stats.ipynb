{
 "cells": [
  {
   "cell_type": "markdown",
   "id": "3ee75a39-5647-4cb8-843a-b6b27e7c277e",
   "metadata": {},
   "source": [
    "# basic statistical analysis with python\n",
    "\n",
    "In this exercise, we'll take a look at some basic statistical analysis with python - starting with using python and `pandas` to calculate descriptive statistics for our datasets, before moving on to look at a few common examples of hypothesis tests using `statsmodels`.\n",
    " \n",
    "## data\n",
    "\n",
    "The data used in this exercise are the historic meteorological observations from the [Armagh Observatory](https://www.metoffice.gov.uk/weather/learn-about/how-forecasts-are-made/observations/recording-observations-for-over-100-years) (1853-present), the Oxford Observatory (1853-present), the Southampton Observatory (1855-2000), and Stornoway Airport (1873-present), downloaded from the [UK Met Office](https://www.metoffice.gov.uk/research/climate/maps-and-data/historic-station-data) that we used in previous exercises. I have copied the **combined_stations.csv** data into this folder - this is the same file that you created in the process of working through the \"pandas\" exercise.\n",
    "\n",
    "\n",
    "## loading libraries\n",
    "\n",
    "As before, we load the packages that we will use in the exercise at the beginning:"
   ]
  },
  {
   "cell_type": "code",
   "execution_count": null,
   "id": "b612f506-1d23-45be-90b8-976790527390",
   "metadata": {},
   "outputs": [],
   "source": [
    "import pandas as pd\n",
    "from pathlib import Path"
   ]
  },
  {
   "cell_type": "markdown",
   "id": "a5484420-5eb9-48d1-9726-6b0031c6ba12",
   "metadata": {},
   "source": [
    "Next, we'll use `pd.read_csv()` to load the combined station data. We'll also use the `parse_dates` argument to tell `pandas` to read the `date` column as a date:"
   ]
  },
  {
   "cell_type": "code",
   "execution_count": null,
   "id": "168d9fff-eb8f-4a7d-b2a9-2e19d19522bd",
   "metadata": {},
   "outputs": [],
   "source": [
    "station_data = pd.read_csv(Path('data', 'combined_stations.csv'), parse_dates=['date'])"
   ]
  },
  {
   "cell_type": "markdown",
   "id": "e87de769-1790-45e6-9fdf-e3c4d4db6eb3",
   "metadata": {},
   "source": [
    "## descriptive statistics\n",
    "\n",
    "Before diving into statistical tests, we'll spend a little bit of time expanding on calculating *descriptive* statistics using `pandas`. We have seen a little bit of this already, using `.groupby()` and `.mean()` to calculate the mean value of `rain` for each station.\n",
    "\n",
    "### describing variables using .describe()\n",
    "\n",
    "First, we'll have a look at `.describe()` ([documentation](https://pandas.pydata.org/pandas-docs/stable/reference/api/pandas.DataFrame.describe.html)), which provides a summary of each of the (numeric) columns in the table:"
   ]
  },
  {
   "cell_type": "code",
   "execution_count": null,
   "id": "de60b3f6-dfe4-42bf-b981-d1151294b0ba",
   "metadata": {},
   "outputs": [],
   "source": [
    "station_data.describe()"
   ]
  },
  {
   "cell_type": "markdown",
   "id": "fe18a6db-5e62-4683-83d5-140bce6e6093",
   "metadata": {},
   "source": [
    "In the output above, we can see the count (**count**) minimum (**min**), 1st quartile (**25%**), median (**50%**), mean (**mean**), 3rd quartile (**75%**), maximum (**max**), and standard deviation (**std**) values of each numeric variable.\n",
    "\n",
    "With this, we can quickly see where we might have errors in our data - for example, if we have non-physical or nonsense values in our variables. When first getting started with a dataset, it can be a good idea to check over the dataset using `.describe()`.\n",
    "\n",
    "### using .describe() to summarize groups\n",
    "\n",
    "What if we wanted to get a summary based on some grouping - for example, for each station? We could use `filter()` to create an object for each value of `station`, then call `summary()` on each of these objects in turn.\n",
    "\n",
    "Not surprisingly, however, there is an easier way, using `split()` ([documentation](https://rdrr.io/r/base/split.html)) and `map()` ([documentation](https://purrr.tidyverse.org/reference/map.html)). First, `split()` divides the table into separate tables based on some grouping:"
   ]
  },
  {
   "cell_type": "code",
   "execution_count": null,
   "id": "92d423d1-af9a-44fe-9cae-82d6030ec2a7",
   "metadata": {},
   "outputs": [],
   "source": [
    "station_data.groupby('station').describe()"
   ]
  },
  {
   "cell_type": "code",
   "execution_count": null,
   "id": "1193516b-868b-4c72-8de5-5103bf4f0544",
   "metadata": {},
   "outputs": [],
   "source": [
    "group_summary = station_data.groupby('station').describe()"
   ]
  },
  {
   "cell_type": "code",
   "execution_count": null,
   "id": "27540ff4-b59c-4949-b73f-028d5dfdff0b",
   "metadata": {},
   "outputs": [],
   "source": [
    "stations = station_data['station'].unique()\n",
    "\n",
    "combined_stats = []\n",
    "\n",
    "for station in stations:\n",
    "\n",
    "    this_summary = group_summary.loc[station]\n",
    "    columns = this_summary.index.unique(level=0)\n",
    "    \n",
    "    reshaped = pd.concat([this_summary[ind] for ind in columns], axis=1)\n",
    "    reshaped.columns = columns\n",
    "    \n",
    "    reshaped.reset_index(inplace=True)\n",
    "    reshaped.rename(columns={'index': 'statistic'}, inplace=True)\n",
    "    reshaped['station'] = station\n",
    "    \n",
    "    combined_stats.append(reshaped.set_index(['station', 'statistic']))\n",
    "\n",
    "combined_stats = pd.concat(combined_stats)\n",
    "combined_stats"
   ]
  },
  {
   "cell_type": "code",
   "execution_count": null,
   "id": "a3110424-e37a-4e96-8701-d3c1cd89c491",
   "metadata": {},
   "outputs": [],
   "source": [
    "this_summary.index.unique(level=0)"
   ]
  },
  {
   "cell_type": "code",
   "execution_count": null,
   "id": "c615c664-6343-457a-9417-2a4284bb4af2",
   "metadata": {},
   "outputs": [],
   "source": [
    "pd.to_datetime(station_data['date'])"
   ]
  }
 ],
 "metadata": {
  "kernelspec": {
   "display_name": "Python 3 (ipykernel)",
   "language": "python",
   "name": "python3"
  },
  "language_info": {
   "codemirror_mode": {
    "name": "ipython",
    "version": 3
   },
   "file_extension": ".py",
   "mimetype": "text/x-python",
   "name": "python",
   "nbconvert_exporter": "python",
   "pygments_lexer": "ipython3",
   "version": "3.11.6"
  }
 },
 "nbformat": 4,
 "nbformat_minor": 5
}
